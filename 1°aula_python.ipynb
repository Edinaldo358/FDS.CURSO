{
  "nbformat": 4,
  "nbformat_minor": 0,
  "metadata": {
    "colab": {
      "provenance": [],
      "authorship_tag": "ABX9TyNTlmmDz1Xf2slkCzsh1hkx",
      "include_colab_link": true
    },
    "kernelspec": {
      "name": "python3",
      "display_name": "Python 3"
    },
    "language_info": {
      "name": "python"
    }
  },
  "cells": [
    {
      "cell_type": "markdown",
      "metadata": {
        "id": "view-in-github",
        "colab_type": "text"
      },
      "source": [
        "<a href=\"https://colab.research.google.com/github/Edinaldo358/FDS.CURSO/blob/main/1%C2%B0aula_python.ipynb\" target=\"_parent\"><img src=\"https://colab.research.google.com/assets/colab-badge.svg\" alt=\"Open In Colab\"/></a>"
      ]
    },
    {
      "cell_type": "markdown",
      "source": [],
      "metadata": {
        "id": "MgRTqL-iv7Mp"
      }
    },
    {
      "cell_type": "code",
      "source": [
        "#hello world é o começo de tudo!!\n",
        "print(\"hello world\")"
      ],
      "metadata": {
        "colab": {
          "base_uri": "https://localhost:8080/"
        },
        "id": "FevEsX-vKnJl",
        "outputId": "d94d27d5-a256-433d-d4aa-46bca0617f77"
      },
      "execution_count": 33,
      "outputs": [
        {
          "output_type": "stream",
          "name": "stdout",
          "text": [
            "hello world\n"
          ]
        }
      ]
    },
    {
      "cell_type": "code",
      "source": [
        "1\n",
        "2\n",
        "3\n",
        "4\n",
        "5\n",
        "6\n"
      ],
      "metadata": {
        "id": "xj9EW1zMLA7b"
      },
      "execution_count": null,
      "outputs": []
    },
    {
      "cell_type": "code",
      "source": [
        "x =10\n",
        "nome = 'aluno'\n",
        "nota = 8.7\n",
        "fez_inscricao = True\n"
      ],
      "metadata": {
        "id": "LB4FHaS7LF9q"
      },
      "execution_count": null,
      "outputs": []
    },
    {
      "cell_type": "code",
      "source": [
        "print(type(x))\n",
        "print(type(nome))\n",
        "print(type(nota))\n",
        "print(type(fez_inscricao))"
      ],
      "metadata": {
        "colab": {
          "base_uri": "https://localhost:8080/"
        },
        "id": "aeobtvCwLhoC",
        "outputId": "08f004e2-9f8b-4828-f642-b3bf398c4c26"
      },
      "execution_count": 42,
      "outputs": [
        {
          "output_type": "stream",
          "name": "stdout",
          "text": [
            "<class 'int'>\n",
            "<class 'str'>\n",
            "<class 'float'>\n",
            "<class 'bool'>\n"
          ]
        }
      ]
    },
    {
      "cell_type": "code",
      "source": [
        "1\n",
        "2\n",
        "3\n",
        "4\n",
        "5\n",
        "6\n",
        "7\n",
        "8\n",
        "9\n"
      ],
      "metadata": {
        "id": "XmigLDA1MXYi"
      },
      "execution_count": null,
      "outputs": []
    },
    {
      "cell_type": "code",
      "source": [
        "nome = input(\"Digite seu nome:\")"
      ],
      "metadata": {
        "id": "Pq8Gb1UKSBlC"
      },
      "execution_count": null,
      "outputs": []
    },
    {
      "cell_type": "code",
      "source": [
        "print(nome)"
      ],
      "metadata": {
        "id": "-GaCyb1tP5Wn"
      },
      "execution_count": null,
      "outputs": []
    },
    {
      "cell_type": "code",
      "source": [
        "#formatadores de caracteres\n",
        "print(\"Olá %s, bem-vindo a disciplina de programação. Parabens pelo seu primeiro hello world\" % (nome))"
      ],
      "metadata": {
        "colab": {
          "base_uri": "https://localhost:8080/"
        },
        "id": "nMVtz8H6Saxl",
        "outputId": "d903d983-3ea7-41af-86e4-c98b90c35c28"
      },
      "execution_count": 66,
      "outputs": [
        {
          "output_type": "stream",
          "name": "stdout",
          "text": [
            "Olá Edinaldo, bem-vindo a disciplina de programação. Parabens pelo seu primeiro hello world\n"
          ]
        }
      ]
    },
    {
      "cell_type": "code",
      "source": [
        "#F-string\n",
        "print(f\"Olá {nome}, bem-vindo a disciplina de programação. Parabens pelo seu primeiro hello world\")"
      ],
      "metadata": {
        "colab": {
          "base_uri": "https://localhost:8080/"
        },
        "id": "Wk-Md7f1SvMC",
        "outputId": "04cbded9-bda5-45af-8418-313ea0a35f9b"
      },
      "execution_count": 67,
      "outputs": [
        {
          "output_type": "stream",
          "name": "stdout",
          "text": [
            "Olá Edinaldo, bem-vindo a disciplina de programação. Parabens pelo seu primeiro hello world\n"
          ]
        }
      ]
    },
    {
      "cell_type": "code",
      "source": [
        "Nota_1 = int(input(\"Digite a primeira nota:\"))\n",
        "Nota_2 = int(input(\"Digite a segunda nota:\"))\n",
        "Nota_3 = int(input(\"Digite a terceira nota:\"))\n",
        "Nota_4 = int(input(\"Digite a quarta nota:\"))\n",
        "#observe que utilizamos a função int(), pois sem ela, o Python entenderia que as notas seriam String"
      ],
      "metadata": {
        "colab": {
          "base_uri": "https://localhost:8080/"
        },
        "id": "--_eozATTRSx",
        "outputId": "d8fc31b2-b8c7-4a0f-eb24-c9901f68d2bc"
      },
      "execution_count": 68,
      "outputs": [
        {
          "name": "stdout",
          "output_type": "stream",
          "text": [
            "Digite a primeira nota:5\n",
            "Digite a segunda nota:6\n",
            "Digite a terceira nota:7\n",
            "Digite a quarta nota:9\n"
          ]
        }
      ]
    },
    {
      "cell_type": "code",
      "source": [],
      "metadata": {
        "id": "Mtg7tLTjTV_D"
      },
      "execution_count": null,
      "outputs": []
    },
    {
      "cell_type": "code",
      "source": [],
      "metadata": {
        "id": "OEERnmdgTVGx"
      },
      "execution_count": null,
      "outputs": []
    },
    {
      "cell_type": "code",
      "source": [
        "#condição para a aprovaçãodo aluno\n",
        "media = (Nota_1+Nota_2+Nota_3+Nota_4)/4\n",
        "\n",
        "if media >= 7:\n",
        "  situacao = (\"Aprovado\")\n",
        "else:\n",
        "  situacao = (\"Reprovado\")\n",
        "\n"
      ],
      "metadata": {
        "id": "-1Zycv2aMlAC"
      },
      "execution_count": 97,
      "outputs": []
    },
    {
      "cell_type": "code",
      "source": [
        "#dadas as notas mostramos a média final e a situação do aluno\n",
        "print(f\"A média das notas é: {media}\")\n",
        "print(f\"Situação do aluno: {situacao}\")"
      ],
      "metadata": {
        "colab": {
          "base_uri": "https://localhost:8080/"
        },
        "id": "iNzvlUTlWyc7",
        "outputId": "073c4d5e-bb18-4307-e332-013e76c52c65"
      },
      "execution_count": 98,
      "outputs": [
        {
          "output_type": "stream",
          "name": "stdout",
          "text": [
            "A média das notas é: 6.75\n",
            "Situação do aluno: Reprovado\n"
          ]
        }
      ]
    },
    {
      "cell_type": "code",
      "source": [
        "1\n",
        "2\n",
        "3\n",
        "4\n",
        "5\n",
        "6\n",
        "7\n",
        "8\n",
        "9\n",
        "10\n",
        "11\n"
      ],
      "metadata": {
        "id": "k7Bg5GrFTwta"
      },
      "execution_count": null,
      "outputs": []
    },
    {
      "cell_type": "code",
      "source": [
        "3>2"
      ],
      "metadata": {
        "colab": {
          "base_uri": "https://localhost:8080/"
        },
        "id": "1Gn-JGX_T1dh",
        "outputId": "12abee80-81c2-414d-f07d-1328c546220e"
      },
      "execution_count": 75,
      "outputs": [
        {
          "output_type": "execute_result",
          "data": {
            "text/plain": [
              "True"
            ]
          },
          "metadata": {},
          "execution_count": 75
        }
      ]
    },
    {
      "cell_type": "code",
      "source": [
        "2 == 2"
      ],
      "metadata": {
        "colab": {
          "base_uri": "https://localhost:8080/"
        },
        "id": "BlWR4AgPT60C",
        "outputId": "d76945a1-586b-465d-c089-87cbe985c991"
      },
      "execution_count": 77,
      "outputs": [
        {
          "output_type": "execute_result",
          "data": {
            "text/plain": [
              "True"
            ]
          },
          "metadata": {},
          "execution_count": 77
        }
      ]
    },
    {
      "cell_type": "code",
      "source": [
        "a = 'aluno'\n",
        "b = 'aluna'\n",
        "\n",
        "a is not b"
      ],
      "metadata": {
        "colab": {
          "base_uri": "https://localhost:8080/"
        },
        "id": "XsCVYOQLUAIK",
        "outputId": "86fcaf82-ac46-44be-b7ce-471a11f366ac"
      },
      "execution_count": 79,
      "outputs": [
        {
          "output_type": "execute_result",
          "data": {
            "text/plain": [
              "True"
            ]
          },
          "metadata": {},
          "execution_count": 79
        }
      ]
    },
    {
      "cell_type": "code",
      "source": [
        " idade = 18\n",
        "\n",
        " if idade < 18:\n",
        "     print(\"Menor de idade\")\n",
        " elif idade >= 18 and idade < 65:\n",
        "     print(\"Adulto\")\n",
        " else:\n",
        "     print(\"Idoso\")"
      ],
      "metadata": {
        "colab": {
          "base_uri": "https://localhost:8080/"
        },
        "id": "hjMQiIux6r23",
        "outputId": "60dd0aaa-8dcc-45be-f2f4-aacc8db8d1cd"
      },
      "execution_count": 12,
      "outputs": [
        {
          "output_type": "stream",
          "name": "stdout",
          "text": [
            "Adulto\n"
          ]
        }
      ]
    },
    {
      "cell_type": "code",
      "source": [
        "1\n",
        "2\n",
        "3\n",
        "4\n"
      ],
      "metadata": {
        "id": "CV1K0Z-Q7Mv-"
      },
      "execution_count": null,
      "outputs": []
    },
    {
      "cell_type": "code",
      "source": [
        "# Bem-vindo à Maquina de Venda Automática de Ingressos de Cinema\n",
        "\n",
        "#Solicita a idade do cliente\n",
        "idade = int(input(\"Por favor, digite sua idade: \"))\n",
        "\n",
        "#Verificar a idade para sugestão de filmes\n",
        "if idade < 12:\n",
        "    print(\"Recomendamos o filme infantil FILME 1.\")\n",
        "elif 12 <= idade < 18:\n",
        "   print(\"Recomendamos o filme infantil FILME 2.\")\n",
        "else:\n",
        "   print(\"Recomendamos o filme infantil FILME 3.\")\n",
        "\n",
        "#Verifica a disponibilidade de Ingressos\n",
        "quantidade_ingressoss = 10 # Suponha que haja 10 ingressos disponiveis\n",
        "if quantidade_ingressoss > 0:\n",
        "    print(\"Ingressos estão disponiveis. Divirta-se no cinema!\")\n",
        "else:\n",
        "    print(\"Desculpe, todos os ingressos estão esgotados para hoje.\")"
      ],
      "metadata": {
        "colab": {
          "base_uri": "https://localhost:8080/"
        },
        "id": "UY4kd00A8-fo",
        "outputId": "b50be561-da8d-4816-db82-c365c9f19405"
      },
      "execution_count": 15,
      "outputs": [
        {
          "output_type": "stream",
          "name": "stdout",
          "text": [
            "Por favor, digite sua idade: 20\n",
            "Recomendamos o filme infantil FILME 3.\n",
            "Ingressos estão disponiveis. Divirta-se no cinema!\n"
          ]
        }
      ]
    },
    {
      "cell_type": "code",
      "source": [
        "numeros = [1, 2, 3, 4, 5]\n",
        "numeros\n",
        "\n"
      ],
      "metadata": {
        "id": "ZjS6NVqTu9Ok"
      },
      "execution_count": null,
      "outputs": []
    },
    {
      "cell_type": "markdown",
      "source": [
        "numeros\n"
      ],
      "metadata": {
        "id": "oDle_-ThvqCK"
      }
    },
    {
      "cell_type": "code",
      "source": [
        "[1, 2, 3, 4, 5]"
      ],
      "metadata": {
        "id": "OkGLV68mvvQx"
      },
      "execution_count": null,
      "outputs": []
    },
    {
      "cell_type": "code",
      "source": [
        "for num in numeros:\n",
        "    print(num)"
      ],
      "metadata": {
        "colab": {
          "base_uri": "https://localhost:8080/"
        },
        "id": "ea3TlLqvv5yp",
        "outputId": "9ac844c4-ebc0-4704-8059-29b96187fe71"
      },
      "execution_count": 6,
      "outputs": [
        {
          "output_type": "stream",
          "name": "stdout",
          "text": [
            "1\n",
            "2\n",
            "3\n",
            "4\n",
            "5\n"
          ]
        }
      ]
    },
    {
      "cell_type": "code",
      "source": [
        "1\n",
        "2\n",
        "3\n",
        "4\n",
        "5\n",
        "6\n",
        "7\n",
        "8\n",
        "9\n",
        "10\n"
      ],
      "metadata": {
        "id": "NQXunDtWwb7p"
      },
      "execution_count": null,
      "outputs": []
    },
    {
      "cell_type": "code",
      "source": [
        "numero = int(input(\"Digite um número (ou 0 para sair): \"))\n",
        "\n",
        "while numero != 0:\n",
        "  if numero % 2 == 0:\n",
        "    print(\"O número é par.\")\n",
        "  else:\n",
        "    print(\"O numero é ímpar.\")\n",
        "  numero = int(input(\"Digite um número (ou 0 para sair): \"))"
      ],
      "metadata": {
        "colab": {
          "base_uri": "https://localhost:8080/"
        },
        "id": "MQoWlYRlwlP6",
        "outputId": "09d49024-568b-4ceb-f4f8-e81e2ce39fb2"
      },
      "execution_count": 8,
      "outputs": [
        {
          "name": "stdout",
          "output_type": "stream",
          "text": [
            "Digite um número (ou 0 para sair): 155158445845\n",
            "O numero é ímpar.\n",
            "Digite um número (ou 0 para sair): 156648\n",
            "O número é par.\n",
            "Digite um número (ou 0 para sair): 15125918856\n",
            "O número é par.\n",
            "Digite um número (ou 0 para sair): 15616258241323\n",
            "O numero é ímpar.\n",
            "Digite um número (ou 0 para sair): 0\n"
          ]
        }
      ]
    },
    {
      "cell_type": "code",
      "source": [
        "1\n",
        "2\n",
        "3\n",
        "4\n",
        "5\n",
        "6\n",
        "7\n",
        "8\n",
        "9\n",
        "10\n",
        "11\n",
        "12\n"
      ],
      "metadata": {
        "id": "fK6ZT8ZCygtr"
      },
      "execution_count": null,
      "outputs": []
    },
    {
      "cell_type": "code",
      "source": [
        "for x in range(5): #lembre-se que o range começa em 0\n",
        "    print(x)"
      ],
      "metadata": {
        "colab": {
          "base_uri": "https://localhost:8080/"
        },
        "id": "4HRE-53eyl2Z",
        "outputId": "4b28cb59-b566-444f-fd8a-84f4a50edf6d"
      },
      "execution_count": 12,
      "outputs": [
        {
          "output_type": "stream",
          "name": "stdout",
          "text": [
            "0\n",
            "1\n",
            "2\n",
            "3\n",
            "4\n"
          ]
        }
      ]
    },
    {
      "cell_type": "code",
      "source": [
        "for y in range(2, 7): #observe que aqui o 7 não entra no looping\n",
        "    print(y)"
      ],
      "metadata": {
        "colab": {
          "base_uri": "https://localhost:8080/"
        },
        "id": "gF8nvdcvzFux",
        "outputId": "569ffd92-5da1-469e-9901-f9c6b2faf486"
      },
      "execution_count": 10,
      "outputs": [
        {
          "output_type": "stream",
          "name": "stdout",
          "text": [
            "2\n",
            "3\n",
            "4\n",
            "5\n",
            "6\n"
          ]
        }
      ]
    },
    {
      "cell_type": "code",
      "source": [
        "for z in range(1, 11, 2): #observe que aqui o 11 não entra no looping\n",
        "    print(z)"
      ],
      "metadata": {
        "colab": {
          "base_uri": "https://localhost:8080/"
        },
        "id": "Zm2-lL2fzkm5",
        "outputId": "c7b52fc0-635f-4739-86bd-8f6c35fb8a21"
      },
      "execution_count": 11,
      "outputs": [
        {
          "output_type": "stream",
          "name": "stdout",
          "text": [
            "1\n",
            "3\n",
            "5\n",
            "7\n",
            "9\n"
          ]
        }
      ]
    },
    {
      "cell_type": "code",
      "source": [
        "1\n",
        "2\n",
        "3\n",
        "4\n",
        "5\n",
        "6\n",
        "7\n",
        "8\n",
        "9\n",
        "10\n",
        "11\n",
        "12\n",
        "13\n",
        "14\n"
      ],
      "metadata": {
        "id": "KicSgoMw0KFp"
      },
      "execution_count": null,
      "outputs": []
    },
    {
      "cell_type": "code",
      "source": [
        "for numero in range(10, 11):\n",
        "    if numero % 2 == 0:\n",
        "      print(\"O primeiro número par encontrado é:\", numero)\n",
        "      break"
      ],
      "metadata": {
        "colab": {
          "base_uri": "https://localhost:8080/"
        },
        "id": "cSgLE32w0QAJ",
        "outputId": "151106b7-db27-4d29-bf88-5ac7b957041e"
      },
      "execution_count": 18,
      "outputs": [
        {
          "output_type": "stream",
          "name": "stdout",
          "text": [
            "O primeiro número par encontrado é: 10\n"
          ]
        }
      ]
    },
    {
      "cell_type": "code",
      "source": [
        "for numero in range(1, 11):\n",
        "   if numero == 5:\n",
        "      continue\n",
        "   print(numero)\n",
        ""
      ],
      "metadata": {
        "colab": {
          "base_uri": "https://localhost:8080/"
        },
        "id": "AQV3oks30rC6",
        "outputId": "1e6b319a-cf27-4616-ca92-db4057c618ae"
      },
      "execution_count": 21,
      "outputs": [
        {
          "output_type": "stream",
          "name": "stdout",
          "text": [
            "1\n",
            "2\n",
            "3\n",
            "4\n",
            "6\n",
            "7\n",
            "8\n",
            "9\n",
            "10\n"
          ]
        }
      ]
    },
    {
      "cell_type": "code",
      "source": [
        "1\n",
        "2\n",
        "3\n",
        "4\n",
        "5\n",
        "6\n",
        "7\n",
        "8\n",
        "9\n",
        "10\n",
        "11\n",
        "12\n",
        "13\n",
        "14\n"
      ],
      "metadata": {
        "id": "G8FLCIfp2czp"
      },
      "execution_count": null,
      "outputs": []
    },
    {
      "cell_type": "code",
      "source": [
        "# Lista de filmes parta classificação\n",
        "filmes = [\"Filme 1\", \"Filme 2\", \"Filme 3\", \"Filme 4\", \"Filme 5\"]\n",
        "\n",
        "filmes"
      ],
      "metadata": {
        "colab": {
          "base_uri": "https://localhost:8080/"
        },
        "id": "TEsWwq0N2h6L",
        "outputId": "725150c0-fa31-4c95-f64e-9f43d3f43df4"
      },
      "execution_count": 24,
      "outputs": [
        {
          "output_type": "execute_result",
          "data": {
            "text/plain": [
              "['Filme 1', 'Filme 2', 'Filme 3', 'Filme 4', 'Filme 5']"
            ]
          },
          "metadata": {},
          "execution_count": 24
        }
      ]
    },
    {
      "cell_type": "code",
      "source": [
        "# Mensagem de boas vindas\n",
        "print(\"Bem-vindo à classificação de filmes!\")\n",
        "print(\"Você tem cinco filmes para classificar.\")\n",
        "print(\"Digite '0' a qualquer momento para parar.\\n\")\n",
        "\n",
        "# Loop para interar sobre cada filme na lista\n",
        "for filme in filmes:\n",
        "  # Solicita a classificação ao usuario\n",
        "  classificação = input(f\"Como você classificaria '{filme}' de 1 a 5? (ou 0 para parar): \")\n",
        "\n",
        "  # Verifica se o usuario deseja parar\n",
        "  if classificação == '0':\n",
        "    print(\"Que pena que você não irá classificar mais os filmes.\")\n",
        "    break # Encerra o loop principal\n",
        "\n",
        "    # Converte a classificação para um número inteiro\n",
        "    classificação = int(classificação)\n",
        "\n",
        "    # Verifica se a classificação está dentro do intervalo válido\n",
        "    if classificação < 1 or classificação > 5:\n",
        "      print(\"Por favor, digite uma classificação válida de 1 a 5.\")\n",
        "    else:\n",
        "        # Exibe a classificação e passa para o próximo filme\n",
        "        print(f\"Você classificou '{filme}' com {classificação} estrelas.\\n\")\n",
        "\n",
        "# Mensagem de agradecimento ao finalizar\n",
        "print(\"Obrigado por classificar os filmes!\")"
      ],
      "metadata": {
        "id": "y6dN3kk9_lwV"
      },
      "execution_count": null,
      "outputs": []
    },
    {
      "cell_type": "code",
      "source": [
        "1\n",
        "1\n",
        "1\n",
        "1\n",
        "1\n",
        "1\n",
        "1\n",
        "1\n",
        "1\n",
        "1\n"
      ],
      "metadata": {
        "id": "A4siMqERZB4S"
      },
      "execution_count": null,
      "outputs": []
    },
    {
      "cell_type": "code",
      "source": [
        "# Criar uma lista de numeros\n",
        "numeros = [1, 2, 3, 4, 5,6]#,7,8,9,10,11,11, 'a',True]\n",
        "\n",
        "# Usa a função len() para calcular o comprimento da lista\n",
        "comprimento = len(numeros)\n",
        "\n",
        "# Imprime o comprimento da lista\n",
        "print(\"O comprimento da lista é:\", comprimento)"
      ],
      "metadata": {
        "colab": {
          "base_uri": "https://localhost:8080/"
        },
        "id": "pm-D9OSrZKsw",
        "outputId": "7ddbdbef-ce1b-4995-cf05-2672bc0a62b4"
      },
      "execution_count": 100,
      "outputs": [
        {
          "output_type": "stream",
          "name": "stdout",
          "text": [
            "O comprimento da lista é: 6\n"
          ]
        }
      ]
    }
  ]
}