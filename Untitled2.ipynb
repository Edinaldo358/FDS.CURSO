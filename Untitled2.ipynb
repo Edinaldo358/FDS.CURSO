{
  "nbformat": 4,
  "nbformat_minor": 0,
  "metadata": {
    "colab": {
      "provenance": [],
      "authorship_tag": "ABX9TyNU4Wf0IdAzyoFoiwjV8zUM",
      "include_colab_link": true
    },
    "kernelspec": {
      "name": "python3",
      "display_name": "Python 3"
    },
    "language_info": {
      "name": "python"
    }
  },
  "cells": [
    {
      "cell_type": "markdown",
      "metadata": {
        "id": "view-in-github",
        "colab_type": "text"
      },
      "source": [
        "<a href=\"https://colab.research.google.com/github/Edinaldo358/FDS.CURSO/blob/main/Untitled2.ipynb\" target=\"_parent\"><img src=\"https://colab.research.google.com/assets/colab-badge.svg\" alt=\"Open In Colab\"/></a>"
      ]
    },
    {
      "cell_type": "markdown",
      "source": [],
      "metadata": {
        "id": "MgRTqL-iv7Mp"
      }
    },
    {
      "cell_type": "code",
      "source": [
        " idade = 18\n",
        "\n",
        " if idade < 18:\n",
        "     print(\"Menor de idade\")\n",
        " elif idade >= 18 and idade < 65:\n",
        "     print(\"Adulto\")\n",
        " else:\n",
        "     print(\"Idoso\")"
      ],
      "metadata": {
        "colab": {
          "base_uri": "https://localhost:8080/"
        },
        "id": "hjMQiIux6r23",
        "outputId": "60dd0aaa-8dcc-45be-f2f4-aacc8db8d1cd"
      },
      "execution_count": 12,
      "outputs": [
        {
          "output_type": "stream",
          "name": "stdout",
          "text": [
            "Adulto\n"
          ]
        }
      ]
    },
    {
      "cell_type": "code",
      "source": [
        "1\n",
        "2\n",
        "3\n",
        "4\n"
      ],
      "metadata": {
        "id": "CV1K0Z-Q7Mv-"
      },
      "execution_count": null,
      "outputs": []
    },
    {
      "cell_type": "code",
      "source": [
        "# Bem-vindo à Maquina de Venda Automática de Ingressos de Cinema\n",
        "\n",
        "#Solicita a idade do cliente\n",
        "idade = int(input(\"Por favor, digite sua idade: \"))\n",
        "\n",
        "#Verificar a idade para sugestão de filmes\n",
        "if idade < 12:\n",
        "    print(\"Recomendamos o filme infantil FILME 1.\")\n",
        "elif 12 <= idade < 18:\n",
        "   print(\"Recomendamos o filme infantil FILME 2.\")\n",
        "else:\n",
        "   print(\"Recomendamos o filme infantil FILME 3.\")\n",
        "\n",
        "#Verifica a disponibilidade de Ingressos\n",
        "quantidade_ingressoss = 10 # Suponha que haja 10 ingressos disponiveis\n",
        "if quantidade_ingressoss > 0:\n",
        "    print(\"Ingressos estão disponiveis. Divirta-se no cinema!\")\n",
        "else:\n",
        "    print(\"Desculpe, todos os ingressos estão esgotados para hoje.\")"
      ],
      "metadata": {
        "colab": {
          "base_uri": "https://localhost:8080/"
        },
        "id": "UY4kd00A8-fo",
        "outputId": "b50be561-da8d-4816-db82-c365c9f19405"
      },
      "execution_count": 15,
      "outputs": [
        {
          "output_type": "stream",
          "name": "stdout",
          "text": [
            "Por favor, digite sua idade: 20\n",
            "Recomendamos o filme infantil FILME 3.\n",
            "Ingressos estão disponiveis. Divirta-se no cinema!\n"
          ]
        }
      ]
    }
  ]
}